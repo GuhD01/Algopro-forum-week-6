{
 "cells": [
  {
   "cell_type": "code",
   "execution_count": 3,
   "metadata": {},
   "outputs": [
    {
     "name": "stdout",
     "output_type": "stream",
     "text": [
      "{'gold': 550, 'pouch': ['flint', 'twine', 'gemstone'], 'backpack': ['bedroll', 'bread loaf', 'xylophone'], 'pocket': ['seashell', 'strange berry', 'lint']}\n"
     ]
    }
   ],
   "source": [
    "#!\n",
    "inventory = {\n",
    " 'gold' : 500,\n",
    " 'pouch' : ['flint', 'twine', 'gemstone'],\n",
    " 'backpack' : ['xylophone','dagger', 'bedroll','bread loaf']\n",
    "}\n",
    "inventory.update({'pocket': ['seashell','strange berry','lint']})\n",
    "inventory['backpack'].sort()\n",
    "inventory['backpack'].remove('dagger')      \n",
    "inventory['gold'] += 50\n",
    "print(inventory)"
   ]
  },
  {
   "cell_type": "code",
   "execution_count": 34,
   "metadata": {},
   "outputs": [
    {
     "name": "stdout",
     "output_type": "stream",
     "text": [
      "banana\n",
      "price: 4\n",
      "stock: 6\n",
      "apple\n",
      "price: 2\n",
      "stock: 0\n",
      "orange\n",
      "price: 1.5\n",
      "stock: 32\n",
      "pear\n",
      "price: 3\n",
      "stock: 15\n",
      "the total is 117.0\n"
     ]
    }
   ],
   "source": [
    "#2\n",
    "prices = { \n",
    "\"banana\": 4,\n",
    "\"apple\": 2,\n",
    "\"orange\": 1.5,\n",
    "\"pear\": 3 \n",
    "}\n",
    "stock = {\n",
    " \"banana\": 6,\n",
    " \"apple\": 0,\n",
    " \"orange\": 32,\n",
    " \"pear\": 15\n",
    "}\n",
    "\n",
    "for fruit in prices:\n",
    "    print(fruit)\n",
    "    print(\"price: \" + str(prices[fruit]))\n",
    "    print(\"stock: \" + str(stock[fruit]))\n",
    "\n",
    "total = 0\n",
    "for i in prices:\n",
    "    x = prices[i]*stock[i]\n",
    "    total += x\n",
    "print(f\"the total is {total}\")\n",
    "    \n",
    "\n",
    "\n",
    "\n",
    "    \n",
    "\n"
   ]
  },
  {
   "cell_type": "code",
   "execution_count": 15,
   "metadata": {},
   "outputs": [
    {
     "name": "stdout",
     "output_type": "stream",
     "text": [
      "bill:  5.5\n"
     ]
    }
   ],
   "source": [
    "#3\n",
    "fruit = [\"banana\", \"orange\", \"apple\"]\n",
    "stock = {\n",
    " \"banana\": 6,\n",
    " \"apple\": 0,\n",
    " \"orange\": 32,\n",
    " \"pear\": 15\n",
    "}\n",
    "prices = {\n",
    " \"banana\": 4,\n",
    " \"apple\": 2,\n",
    " \"orange\": 1.5,\n",
    " \"pear\": 3\n",
    "}\n",
    "def compute_bill(food):\n",
    "    total = 0\n",
    "    for item in food:\n",
    "        if stock[item] > 0:\n",
    "            total += prices[item]\n",
    "            stock[item] -= 1\n",
    "    return total\n",
    "print('bill: ', compute_bill(fruit))\n",
    "\n"
   ]
  },
  {
   "cell_type": "code",
   "execution_count": 28,
   "metadata": {},
   "outputs": [
    {
     "name": "stdout",
     "output_type": "stream",
     "text": [
      "name: Eren\n",
      "homework: [90.0, 97.0, 75.0, 92.0]\n",
      "quizzes: [88.0, 40.0, 94.0]\n",
      "tests: [75.0, 90.0]\n",
      "name: Mikasa\n",
      "homework: [100.0, 92.0, 98.0, 100.0]\n",
      "quizzes: [82.0, 83.0, 91.0]\n",
      "tests: [89.0, 97.0]\n",
      "name: Armin\n",
      "homework: [0.0, 87.0, 75.0, 22.0]\n",
      "quizzes: [0.0, 75.0, 78.0]\n",
      "tests: [100.0, 100.0]\n",
      "Eren's grade:  B\n",
      "The class grade average is: 83.86666666666666\n",
      "The class letter grade average is: B\n"
     ]
    }
   ],
   "source": [
    "#4\n",
    "eren = {\n",
    " \"name\": \"Eren\",\n",
    " \"homework\": [90.0,97.0,75.0,92.0],\n",
    " \"quizzes\": [88.0,40.0,94.0],\n",
    " \"tests\": [75.0,90.0]\n",
    "}\n",
    "mikasa = {\n",
    "\"name\": \"Mikasa\",\n",
    "\"homework\": [100.0, 92.0, 98.0, 100.0],\n",
    "\"quizzes\": [82.0, 83.0, 91.0],\n",
    "\"tests\": [89.0, 97.0]\n",
    "}\n",
    "armin = {\n",
    "\"name\": \"Armin\",\n",
    "\"homework\": [0.0, 87.0, 75.0, 22.0],\n",
    "\"quizzes\": [0.0, 75.0, 78.0],\n",
    "\"tests\": [100.0, 100.0]\n",
    "}\n",
    "student = [eren, mikasa, armin]\n",
    "for i in student:\n",
    "    print ('name: '+ str(i[\"name\"]))\n",
    "    print('homework: ' + str(i[\"homework\"]))\n",
    "    print('quizzes: ' + str(i[\"quizzes\"]))\n",
    "    print('tests: ' + str(i[\"tests\"]))\n",
    "\n",
    "def average(numbers):\n",
    "    total = sum(numbers)\n",
    "    total = float(total)\n",
    "    avg = total/ len(numbers)\n",
    "    return avg\n",
    "def get_average(student):\n",
    "    homework = average(student[\"homework\"])\n",
    "    quizzes = average(student[\"quizzes\"])\n",
    "    tests = average(student[\"tests\"])\n",
    "    sum = (homework * 0.1) + (quizzes * 0.3) + (tests * 0.6)\n",
    "    return sum\n",
    "\n",
    "def get_letter_grade(score = float):\n",
    "    if score >= 90:\n",
    "        return \"A\"\n",
    "    elif score >= 80:\n",
    "        return \"B\"\n",
    "    elif score >= 70:\n",
    "        return \"C\"\n",
    "    elif score >= 60:\n",
    "        return \"D\"\n",
    "    else:\n",
    "        return \"F\"\n",
    "        \n",
    "print(\"Eren's grade: \",get_letter_grade(get_average(eren)))\n",
    "\n",
    "def get_class_average(students=[eren, mikasa, armin]):\n",
    "    results = []\n",
    "    for v in students:\n",
    "        results.append(get_average(v))\n",
    "    return average(results)\n",
    "print('The class grade average is:', get_class_average(student))\n",
    "print('The class letter grade average is:',get_letter_grade(get_class_average(student)))\n",
    "\n",
    "    \n",
    "\n",
    "\n",
    "\n",
    "\n",
    "\n",
    "\n"
   ]
  }
 ],
 "metadata": {
  "kernelspec": {
   "display_name": "Python 3.10.7 64-bit",
   "language": "python",
   "name": "python3"
  },
  "language_info": {
   "codemirror_mode": {
    "name": "ipython",
    "version": 3
   },
   "file_extension": ".py",
   "mimetype": "text/x-python",
   "name": "python",
   "nbconvert_exporter": "python",
   "pygments_lexer": "ipython3",
   "version": "3.10.7"
  },
  "orig_nbformat": 4,
  "vscode": {
   "interpreter": {
    "hash": "aa417f14ae48157c11723b6a8eeedd9f16e2b828927b030ca21ca6fc7c1dd5fc"
   }
  }
 },
 "nbformat": 4,
 "nbformat_minor": 2
}
